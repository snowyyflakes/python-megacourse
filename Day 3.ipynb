{
 "cells": [
  {
   "cell_type": "markdown",
   "id": "f921b621",
   "metadata": {},
   "source": [
    "# Operators"
   ]
  },
  {
   "cell_type": "markdown",
   "id": "a506291b",
   "metadata": {},
   "source": [
    "Arithmetic Operators\n",
    "\n"
   ]
  },
  {
   "cell_type": "code",
   "execution_count": 1,
   "id": "3562027e",
   "metadata": {},
   "outputs": [
    {
     "name": "stdout",
     "output_type": "stream",
     "text": [
      "enter first number: 78.88\n",
      "enter second number: 87.77\n"
     ]
    }
   ],
   "source": [
    "x=float(input(\"enter first number: \"))\n",
    "y=float(input(\"enter second number: \"))"
   ]
  },
  {
   "cell_type": "code",
   "execution_count": 2,
   "id": "17a10359",
   "metadata": {},
   "outputs": [],
   "source": [
    "sum=x+y"
   ]
  },
  {
   "cell_type": "code",
   "execution_count": 3,
   "id": "0653fa12",
   "metadata": {},
   "outputs": [
    {
     "name": "stdout",
     "output_type": "stream",
     "text": [
      "166.64999999999998\n"
     ]
    }
   ],
   "source": [
    "print(sum)"
   ]
  },
  {
   "cell_type": "code",
   "execution_count": 5,
   "id": "067947b4",
   "metadata": {},
   "outputs": [
    {
     "name": "stdout",
     "output_type": "stream",
     "text": [
      "enter first number: 88\n",
      "enter second number: 33\n"
     ]
    }
   ],
   "source": [
    "x=float(input(\"enter first number: \"))\n",
    "y=float(input(\"enter second number: \"))"
   ]
  },
  {
   "cell_type": "code",
   "execution_count": 6,
   "id": "bd4e8087",
   "metadata": {},
   "outputs": [],
   "source": [
    "diff=x-y"
   ]
  },
  {
   "cell_type": "code",
   "execution_count": 7,
   "id": "8eefd337",
   "metadata": {},
   "outputs": [
    {
     "name": "stdout",
     "output_type": "stream",
     "text": [
      "55.0\n"
     ]
    }
   ],
   "source": [
    "print(diff)"
   ]
  },
  {
   "cell_type": "code",
   "execution_count": 8,
   "id": "5107158a",
   "metadata": {},
   "outputs": [
    {
     "name": "stdout",
     "output_type": "stream",
     "text": [
      "enter first number: 33.77\n",
      "enter second number: 22\n"
     ]
    }
   ],
   "source": [
    "x=float(input(\"enter first number: \"))\n",
    "y=float(input(\"enter second number: \"))"
   ]
  },
  {
   "cell_type": "code",
   "execution_count": 10,
   "id": "ea910551",
   "metadata": {},
   "outputs": [],
   "source": [
    "mul=x*y"
   ]
  },
  {
   "cell_type": "code",
   "execution_count": 11,
   "id": "421f27ef",
   "metadata": {},
   "outputs": [
    {
     "name": "stdout",
     "output_type": "stream",
     "text": [
      "742.94\n"
     ]
    }
   ],
   "source": [
    "print(mul)"
   ]
  },
  {
   "cell_type": "code",
   "execution_count": 12,
   "id": "725d0f80",
   "metadata": {},
   "outputs": [
    {
     "name": "stdout",
     "output_type": "stream",
     "text": [
      "enter first number: 44\n",
      "enter second number: 4\n"
     ]
    }
   ],
   "source": [
    "x=float(input(\"enter first number: \"))\n",
    "y=float(input(\"enter second number: \"))"
   ]
  },
  {
   "cell_type": "code",
   "execution_count": 13,
   "id": "2ffd6357",
   "metadata": {},
   "outputs": [],
   "source": [
    "div1=x/y"
   ]
  },
  {
   "cell_type": "code",
   "execution_count": 14,
   "id": "95021d1d",
   "metadata": {},
   "outputs": [
    {
     "name": "stdout",
     "output_type": "stream",
     "text": [
      "11.0\n"
     ]
    }
   ],
   "source": [
    "print(div1)"
   ]
  },
  {
   "cell_type": "code",
   "execution_count": 15,
   "id": "7d84dc2a",
   "metadata": {},
   "outputs": [
    {
     "name": "stdout",
     "output_type": "stream",
     "text": [
      "enter first number: 44\n",
      "enter second number: 4\n"
     ]
    }
   ],
   "source": [
    "x=float(input(\"enter first number: \"))\n",
    "y=float(input(\"enter second number: \"))"
   ]
  },
  {
   "cell_type": "code",
   "execution_count": 16,
   "id": "d25ddae9",
   "metadata": {},
   "outputs": [],
   "source": [
    "div2=x//y"
   ]
  },
  {
   "cell_type": "code",
   "execution_count": 17,
   "id": "12ac5d15",
   "metadata": {},
   "outputs": [
    {
     "name": "stdout",
     "output_type": "stream",
     "text": [
      "11.0\n"
     ]
    }
   ],
   "source": [
    "print(div2)"
   ]
  },
  {
   "cell_type": "code",
   "execution_count": 18,
   "id": "1358471f",
   "metadata": {},
   "outputs": [
    {
     "name": "stdout",
     "output_type": "stream",
     "text": [
      "enter first number: 23\n",
      "enter second number: 3\n"
     ]
    }
   ],
   "source": [
    "x=float(input(\"enter first number: \"))\n",
    "y=float(input(\"enter second number: \"))"
   ]
  },
  {
   "cell_type": "code",
   "execution_count": 19,
   "id": "ca02b290",
   "metadata": {},
   "outputs": [],
   "source": [
    "mod=x%y"
   ]
  },
  {
   "cell_type": "code",
   "execution_count": 20,
   "id": "c959a412",
   "metadata": {},
   "outputs": [
    {
     "name": "stdout",
     "output_type": "stream",
     "text": [
      "2.0\n"
     ]
    }
   ],
   "source": [
    "print(mod)"
   ]
  },
  {
   "cell_type": "code",
   "execution_count": 21,
   "id": "32b52c34",
   "metadata": {},
   "outputs": [
    {
     "name": "stdout",
     "output_type": "stream",
     "text": [
      "enter first number: 20\n",
      "enter second number: 22\n"
     ]
    }
   ],
   "source": [
    "x=float(input(\"enter first number: \"))\n",
    "y=float(input(\"enter second number: \"))\n"
   ]
  },
  {
   "cell_type": "code",
   "execution_count": 22,
   "id": "d6def32e",
   "metadata": {},
   "outputs": [],
   "source": [
    "power=x**y"
   ]
  },
  {
   "cell_type": "code",
   "execution_count": 23,
   "id": "5599beaa",
   "metadata": {},
   "outputs": [
    {
     "name": "stdout",
     "output_type": "stream",
     "text": [
      "4.194304e+28\n"
     ]
    }
   ],
   "source": [
    "print(power)"
   ]
  },
  {
   "cell_type": "markdown",
   "id": "8f89e022",
   "metadata": {},
   "source": [
    "Assignment Operators"
   ]
  },
  {
   "cell_type": "code",
   "execution_count": 24,
   "id": "9878afd7",
   "metadata": {},
   "outputs": [
    {
     "name": "stdout",
     "output_type": "stream",
     "text": [
      "enter the number: 20\n"
     ]
    }
   ],
   "source": [
    "x=int(input('enter the number: '))"
   ]
  },
  {
   "cell_type": "code",
   "execution_count": 25,
   "id": "afa8d80a",
   "metadata": {},
   "outputs": [],
   "source": [
    "x+=5"
   ]
  },
  {
   "cell_type": "code",
   "execution_count": 26,
   "id": "b4ee50f5",
   "metadata": {},
   "outputs": [
    {
     "data": {
      "text/plain": [
       "25"
      ]
     },
     "execution_count": 26,
     "metadata": {},
     "output_type": "execute_result"
    }
   ],
   "source": [
    "x"
   ]
  },
  {
   "cell_type": "code",
   "execution_count": 27,
   "id": "e32842f2",
   "metadata": {},
   "outputs": [],
   "source": [
    "x-=10"
   ]
  },
  {
   "cell_type": "code",
   "execution_count": 28,
   "id": "5d1eca38",
   "metadata": {},
   "outputs": [
    {
     "data": {
      "text/plain": [
       "15"
      ]
     },
     "execution_count": 28,
     "metadata": {},
     "output_type": "execute_result"
    }
   ],
   "source": [
    "x"
   ]
  },
  {
   "cell_type": "code",
   "execution_count": 29,
   "id": "9c33cc92",
   "metadata": {},
   "outputs": [],
   "source": [
    "x*=50"
   ]
  },
  {
   "cell_type": "code",
   "execution_count": 30,
   "id": "c7c76792",
   "metadata": {},
   "outputs": [
    {
     "data": {
      "text/plain": [
       "750"
      ]
     },
     "execution_count": 30,
     "metadata": {},
     "output_type": "execute_result"
    }
   ],
   "source": [
    "x"
   ]
  },
  {
   "cell_type": "code",
   "execution_count": 31,
   "id": "89051a0e",
   "metadata": {},
   "outputs": [],
   "source": [
    "x/=15"
   ]
  },
  {
   "cell_type": "code",
   "execution_count": 32,
   "id": "a7f4bc49",
   "metadata": {},
   "outputs": [
    {
     "data": {
      "text/plain": [
       "50.0"
      ]
     },
     "execution_count": 32,
     "metadata": {},
     "output_type": "execute_result"
    }
   ],
   "source": [
    "x"
   ]
  },
  {
   "cell_type": "code",
   "execution_count": 33,
   "id": "804cba61",
   "metadata": {},
   "outputs": [],
   "source": [
    "x%=13"
   ]
  },
  {
   "cell_type": "code",
   "execution_count": 34,
   "id": "31b81ae2",
   "metadata": {},
   "outputs": [
    {
     "data": {
      "text/plain": [
       "11.0"
      ]
     },
     "execution_count": 34,
     "metadata": {},
     "output_type": "execute_result"
    }
   ],
   "source": [
    "x"
   ]
  },
  {
   "cell_type": "code",
   "execution_count": 35,
   "id": "ea953889",
   "metadata": {},
   "outputs": [],
   "source": [
    "x**=12"
   ]
  },
  {
   "cell_type": "code",
   "execution_count": 36,
   "id": "b6ddf0ec",
   "metadata": {},
   "outputs": [
    {
     "data": {
      "text/plain": [
       "3138428376721.0"
      ]
     },
     "execution_count": 36,
     "metadata": {},
     "output_type": "execute_result"
    }
   ],
   "source": [
    "x"
   ]
  },
  {
   "cell_type": "markdown",
   "id": "064a90a0",
   "metadata": {},
   "source": [
    "Comparison Operators"
   ]
  },
  {
   "cell_type": "code",
   "execution_count": 37,
   "id": "b31dbe35",
   "metadata": {},
   "outputs": [
    {
     "name": "stdout",
     "output_type": "stream",
     "text": [
      "enter the first number: 28\n",
      "enter the second number: 54\n"
     ]
    }
   ],
   "source": [
    "a=float(input(\"enter the first number: \"))\n",
    "b=float(input(\"enter the second number: \"))"
   ]
  },
  {
   "cell_type": "code",
   "execution_count": 38,
   "id": "65b3b9ff",
   "metadata": {},
   "outputs": [
    {
     "data": {
      "text/plain": [
       "False"
      ]
     },
     "execution_count": 38,
     "metadata": {},
     "output_type": "execute_result"
    }
   ],
   "source": [
    "a==b"
   ]
  },
  {
   "cell_type": "code",
   "execution_count": 39,
   "id": "796c036f",
   "metadata": {},
   "outputs": [
    {
     "data": {
      "text/plain": [
       "False"
      ]
     },
     "execution_count": 39,
     "metadata": {},
     "output_type": "execute_result"
    }
   ],
   "source": [
    "a>b"
   ]
  },
  {
   "cell_type": "code",
   "execution_count": 40,
   "id": "5e7d6e04",
   "metadata": {},
   "outputs": [
    {
     "data": {
      "text/plain": [
       "True"
      ]
     },
     "execution_count": 40,
     "metadata": {},
     "output_type": "execute_result"
    }
   ],
   "source": [
    "a<b"
   ]
  },
  {
   "cell_type": "code",
   "execution_count": 41,
   "id": "14132e8a",
   "metadata": {},
   "outputs": [
    {
     "data": {
      "text/plain": [
       "True"
      ]
     },
     "execution_count": 41,
     "metadata": {},
     "output_type": "execute_result"
    }
   ],
   "source": [
    "a<=b\n"
   ]
  },
  {
   "cell_type": "code",
   "execution_count": 42,
   "id": "1b2e1514",
   "metadata": {},
   "outputs": [
    {
     "data": {
      "text/plain": [
       "False"
      ]
     },
     "execution_count": 42,
     "metadata": {},
     "output_type": "execute_result"
    }
   ],
   "source": [
    "a>=b"
   ]
  },
  {
   "cell_type": "code",
   "execution_count": 43,
   "id": "5006f6af",
   "metadata": {},
   "outputs": [
    {
     "data": {
      "text/plain": [
       "True"
      ]
     },
     "execution_count": 43,
     "metadata": {},
     "output_type": "execute_result"
    }
   ],
   "source": [
    "a!=b"
   ]
  },
  {
   "cell_type": "markdown",
   "id": "023ec7eb",
   "metadata": {},
   "source": [
    "Logical Opeerators"
   ]
  },
  {
   "cell_type": "code",
   "execution_count": 44,
   "id": "b7ff7e65",
   "metadata": {},
   "outputs": [
    {
     "data": {
      "text/plain": [
       "True"
      ]
     },
     "execution_count": 44,
     "metadata": {},
     "output_type": "execute_result"
    }
   ],
   "source": [
    "2<3 and 1>0  #and operators"
   ]
  },
  {
   "cell_type": "code",
   "execution_count": 45,
   "id": "9e7b816c",
   "metadata": {},
   "outputs": [
    {
     "data": {
      "text/plain": [
       "True"
      ]
     },
     "execution_count": 45,
     "metadata": {},
     "output_type": "execute_result"
    }
   ],
   "source": [
    "2<3 or 1<0 #or operators"
   ]
  },
  {
   "cell_type": "code",
   "execution_count": 48,
   "id": "f9049d2d",
   "metadata": {},
   "outputs": [
    {
     "data": {
      "text/plain": [
       "False"
      ]
     },
     "execution_count": 48,
     "metadata": {},
     "output_type": "execute_result"
    }
   ],
   "source": [
    "a<10 or b<10 # a,b value assinged above"
   ]
  },
  {
   "cell_type": "code",
   "execution_count": 49,
   "id": "abf11e4e",
   "metadata": {},
   "outputs": [
    {
     "data": {
      "text/plain": [
       "False"
      ]
     },
     "execution_count": 49,
     "metadata": {},
     "output_type": "execute_result"
    }
   ],
   "source": [
    "not(2<3 and 3<4)"
   ]
  },
  {
   "cell_type": "markdown",
   "id": "071cce75",
   "metadata": {},
   "source": [
    "# Data types"
   ]
  },
  {
   "cell_type": "markdown",
   "id": "6cc88bca",
   "metadata": {},
   "source": [
    "String"
   ]
  },
  {
   "cell_type": "code",
   "execution_count": 50,
   "id": "7d1d33ad",
   "metadata": {},
   "outputs": [],
   "source": [
    "x=\"I am a student\""
   ]
  },
  {
   "cell_type": "code",
   "execution_count": 51,
   "id": "5fe28bff",
   "metadata": {},
   "outputs": [
    {
     "data": {
      "text/plain": [
       "14"
      ]
     },
     "execution_count": 51,
     "metadata": {},
     "output_type": "execute_result"
    }
   ],
   "source": [
    "len(x)"
   ]
  },
  {
   "cell_type": "code",
   "execution_count": 52,
   "id": "136034a6",
   "metadata": {},
   "outputs": [
    {
     "data": {
      "text/plain": [
       "'a'"
      ]
     },
     "execution_count": 52,
     "metadata": {},
     "output_type": "execute_result"
    }
   ],
   "source": [
    "x[5]"
   ]
  },
  {
   "cell_type": "code",
   "execution_count": 54,
   "id": "a365072f",
   "metadata": {},
   "outputs": [
    {
     "data": {
      "text/plain": [
       "'student'"
      ]
     },
     "execution_count": 54,
     "metadata": {},
     "output_type": "execute_result"
    }
   ],
   "source": [
    "x[7:14]"
   ]
  },
  {
   "cell_type": "code",
   "execution_count": 55,
   "id": "b1a41808",
   "metadata": {},
   "outputs": [
    {
     "data": {
      "text/plain": [
       "'a student'"
      ]
     },
     "execution_count": 55,
     "metadata": {},
     "output_type": "execute_result"
    }
   ],
   "source": [
    "x[5::]"
   ]
  },
  {
   "cell_type": "code",
   "execution_count": 56,
   "id": "8db6209e",
   "metadata": {},
   "outputs": [
    {
     "data": {
      "text/plain": [
       "'t'"
      ]
     },
     "execution_count": 56,
     "metadata": {},
     "output_type": "execute_result"
    }
   ],
   "source": [
    "x[-1]"
   ]
  },
  {
   "cell_type": "code",
   "execution_count": 57,
   "id": "2cb2ded6",
   "metadata": {},
   "outputs": [
    {
     "data": {
      "text/plain": [
       "'uden'"
      ]
     },
     "execution_count": 57,
     "metadata": {},
     "output_type": "execute_result"
    }
   ],
   "source": [
    "x[-5:-1]"
   ]
  },
  {
   "cell_type": "code",
   "execution_count": 58,
   "id": "24be88f4",
   "metadata": {},
   "outputs": [
    {
     "data": {
      "text/plain": [
       "'tneduts a ma I'"
      ]
     },
     "execution_count": 58,
     "metadata": {},
     "output_type": "execute_result"
    }
   ],
   "source": [
    "x[::-1]"
   ]
  },
  {
   "cell_type": "code",
   "execution_count": 59,
   "id": "bd78f841",
   "metadata": {},
   "outputs": [
    {
     "name": "stdout",
     "output_type": "stream",
     "text": [
      "enter your name: Upasana Baral\n"
     ]
    }
   ],
   "source": [
    "x=input(\"enter your name: \")"
   ]
  },
  {
   "cell_type": "code",
   "execution_count": 60,
   "id": "2a9edffc",
   "metadata": {},
   "outputs": [
    {
     "data": {
      "text/plain": [
       "'laraB anasapU'"
      ]
     },
     "execution_count": 60,
     "metadata": {},
     "output_type": "execute_result"
    }
   ],
   "source": [
    "x[::-1]"
   ]
  },
  {
   "cell_type": "code",
   "execution_count": 61,
   "id": "369d330e",
   "metadata": {},
   "outputs": [],
   "source": [
    "y=x.split()"
   ]
  },
  {
   "cell_type": "code",
   "execution_count": 62,
   "id": "85e57d26",
   "metadata": {},
   "outputs": [
    {
     "data": {
      "text/plain": [
       "['Upasana', 'Baral']"
      ]
     },
     "execution_count": 62,
     "metadata": {},
     "output_type": "execute_result"
    }
   ],
   "source": [
    "y"
   ]
  },
  {
   "cell_type": "code",
   "execution_count": 63,
   "id": "5e257fa9",
   "metadata": {},
   "outputs": [],
   "source": [
    "a= \"I/am/a/python/learner\""
   ]
  },
  {
   "cell_type": "code",
   "execution_count": 64,
   "id": "83d1cc8c",
   "metadata": {},
   "outputs": [],
   "source": [
    "b=a.split(\"/\")"
   ]
  },
  {
   "cell_type": "code",
   "execution_count": 65,
   "id": "fea3735f",
   "metadata": {},
   "outputs": [
    {
     "data": {
      "text/plain": [
       "['I', 'am', 'a', 'python', 'learner']"
      ]
     },
     "execution_count": 65,
     "metadata": {},
     "output_type": "execute_result"
    }
   ],
   "source": [
    "b"
   ]
  },
  {
   "cell_type": "markdown",
   "id": "09cd5434",
   "metadata": {},
   "source": [
    "List"
   ]
  },
  {
   "cell_type": "code",
   "execution_count": 66,
   "id": "3b03541f",
   "metadata": {},
   "outputs": [],
   "source": [
    "str1=\"i am a student\""
   ]
  },
  {
   "cell_type": "code",
   "execution_count": 68,
   "id": "8fd438f2",
   "metadata": {},
   "outputs": [
    {
     "data": {
      "text/plain": [
       "'I am a student'"
      ]
     },
     "execution_count": 68,
     "metadata": {},
     "output_type": "execute_result"
    }
   ],
   "source": [
    "str1.capitalize()"
   ]
  },
  {
   "cell_type": "code",
   "execution_count": 69,
   "id": "a287bb6b",
   "metadata": {},
   "outputs": [
    {
     "data": {
      "text/plain": [
       "'upasana baral'"
      ]
     },
     "execution_count": 69,
     "metadata": {},
     "output_type": "execute_result"
    }
   ],
   "source": [
    "x.casefold()"
   ]
  },
  {
   "cell_type": "code",
   "execution_count": 72,
   "id": "69da7c90",
   "metadata": {},
   "outputs": [
    {
     "data": {
      "text/plain": [
       "5"
      ]
     },
     "execution_count": 72,
     "metadata": {},
     "output_type": "execute_result"
    }
   ],
   "source": [
    "x.count(\"a\")"
   ]
  },
  {
   "cell_type": "code",
   "execution_count": 74,
   "id": "90710b91",
   "metadata": {},
   "outputs": [
    {
     "data": {
      "text/plain": [
       "b'i am a student'"
      ]
     },
     "execution_count": 74,
     "metadata": {},
     "output_type": "execute_result"
    }
   ],
   "source": [
    "str1.encode()"
   ]
  },
  {
   "cell_type": "code",
   "execution_count": 76,
   "id": "32af6511",
   "metadata": {},
   "outputs": [
    {
     "data": {
      "text/plain": [
       "False"
      ]
     },
     "execution_count": 76,
     "metadata": {},
     "output_type": "execute_result"
    }
   ],
   "source": [
    "str1.endswith(a)"
   ]
  },
  {
   "cell_type": "code",
   "execution_count": 81,
   "id": "19eaf73c",
   "metadata": {},
   "outputs": [
    {
     "data": {
      "text/plain": [
       "False"
      ]
     },
     "execution_count": 81,
     "metadata": {},
     "output_type": "execute_result"
    }
   ],
   "source": [
    "x.isalnum()"
   ]
  },
  {
   "cell_type": "code",
   "execution_count": 82,
   "id": "3cdc6937",
   "metadata": {},
   "outputs": [
    {
     "data": {
      "text/plain": [
       "False"
      ]
     },
     "execution_count": 82,
     "metadata": {},
     "output_type": "execute_result"
    }
   ],
   "source": [
    "x.isalpha()"
   ]
  },
  {
   "cell_type": "code",
   "execution_count": 83,
   "id": "dd6f76a8",
   "metadata": {},
   "outputs": [],
   "source": [
    "c=\"jupyter\""
   ]
  },
  {
   "cell_type": "code",
   "execution_count": 84,
   "id": "e7091e4a",
   "metadata": {},
   "outputs": [
    {
     "data": {
      "text/plain": [
       "True"
      ]
     },
     "execution_count": 84,
     "metadata": {},
     "output_type": "execute_result"
    }
   ],
   "source": [
    "c.isalpha()"
   ]
  },
  {
   "cell_type": "code",
   "execution_count": 88,
   "id": "1a3f9899",
   "metadata": {},
   "outputs": [],
   "source": [
    "d=\"Day1\""
   ]
  },
  {
   "cell_type": "code",
   "execution_count": 87,
   "id": "9c1bd1b0",
   "metadata": {},
   "outputs": [
    {
     "data": {
      "text/plain": [
       "True"
      ]
     },
     "execution_count": 87,
     "metadata": {},
     "output_type": "execute_result"
    }
   ],
   "source": [
    "d.isalnum()"
   ]
  },
  {
   "cell_type": "code",
   "execution_count": 89,
   "id": "c46481e0",
   "metadata": {},
   "outputs": [
    {
     "data": {
      "text/plain": [
       "'dAY1'"
      ]
     },
     "execution_count": 89,
     "metadata": {},
     "output_type": "execute_result"
    }
   ],
   "source": [
    "d.swapcase()"
   ]
  },
  {
   "cell_type": "code",
   "execution_count": null,
   "id": "69ec028a",
   "metadata": {},
   "outputs": [],
   "source": []
  }
 ],
 "metadata": {
  "kernelspec": {
   "display_name": "Python 3 (ipykernel)",
   "language": "python",
   "name": "python3"
  },
  "language_info": {
   "codemirror_mode": {
    "name": "ipython",
    "version": 3
   },
   "file_extension": ".py",
   "mimetype": "text/x-python",
   "name": "python",
   "nbconvert_exporter": "python",
   "pygments_lexer": "ipython3",
   "version": "3.11.1"
  }
 },
 "nbformat": 4,
 "nbformat_minor": 5
}
