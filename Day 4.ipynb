{
 "cells": [
  {
   "cell_type": "markdown",
   "id": "ec9b98a3",
   "metadata": {},
   "source": [
    "# List"
   ]
  },
  {
   "cell_type": "code",
   "execution_count": 13,
   "id": "c9c1647c",
   "metadata": {},
   "outputs": [],
   "source": [
    "lst=[1,3,5,2.777,\"pasna\",\"sapu\"]"
   ]
  },
  {
   "cell_type": "code",
   "execution_count": 6,
   "id": "f4ffced4",
   "metadata": {},
   "outputs": [
    {
     "data": {
      "text/plain": [
       "list"
      ]
     },
     "execution_count": 6,
     "metadata": {},
     "output_type": "execute_result"
    }
   ],
   "source": [
    "type(lst)"
   ]
  },
  {
   "cell_type": "code",
   "execution_count": 7,
   "id": "f0401379",
   "metadata": {},
   "outputs": [
    {
     "data": {
      "text/plain": [
       "5"
      ]
     },
     "execution_count": 7,
     "metadata": {},
     "output_type": "execute_result"
    }
   ],
   "source": [
    "lst[2]"
   ]
  },
  {
   "cell_type": "code",
   "execution_count": 12,
   "id": "8cfddeaf",
   "metadata": {},
   "outputs": [
    {
     "data": {
      "text/plain": [
       "int"
      ]
     },
     "execution_count": 12,
     "metadata": {},
     "output_type": "execute_result"
    }
   ],
   "source": [
    "type(lst[2])"
   ]
  },
  {
   "cell_type": "code",
   "execution_count": 14,
   "id": "e03df99c",
   "metadata": {},
   "outputs": [
    {
     "data": {
      "text/plain": [
       "'sapu pasna'"
      ]
     },
     "execution_count": 14,
     "metadata": {},
     "output_type": "execute_result"
    }
   ],
   "source": [
    "lst[5]+\" \"+lst[4]"
   ]
  },
  {
   "cell_type": "code",
   "execution_count": 15,
   "id": "52111367",
   "metadata": {},
   "outputs": [
    {
     "data": {
      "text/plain": [
       "6"
      ]
     },
     "execution_count": 15,
     "metadata": {},
     "output_type": "execute_result"
    }
   ],
   "source": [
    "len(lst)"
   ]
  },
  {
   "cell_type": "code",
   "execution_count": 16,
   "id": "6683e640",
   "metadata": {},
   "outputs": [
    {
     "data": {
      "text/plain": [
       "[5, 2.777, 'pasna']"
      ]
     },
     "execution_count": 16,
     "metadata": {},
     "output_type": "execute_result"
    }
   ],
   "source": [
    "lst[2:5]"
   ]
  },
  {
   "cell_type": "code",
   "execution_count": 24,
   "id": "e52b6ebe",
   "metadata": {},
   "outputs": [],
   "source": [
    "lst1=[]"
   ]
  },
  {
   "cell_type": "code",
   "execution_count": 26,
   "id": "4163a75f",
   "metadata": {},
   "outputs": [],
   "source": [
    "lst1.append(\"hex\")"
   ]
  },
  {
   "cell_type": "code",
   "execution_count": 27,
   "id": "d3c02813",
   "metadata": {},
   "outputs": [
    {
     "name": "stdout",
     "output_type": "stream",
     "text": [
      "['hex']\n"
     ]
    }
   ],
   "source": [
    "print(lst1)"
   ]
  },
  {
   "cell_type": "code",
   "execution_count": 28,
   "id": "797852d1",
   "metadata": {},
   "outputs": [],
   "source": [
    "lst1.append(\"mega\")"
   ]
  },
  {
   "cell_type": "code",
   "execution_count": 29,
   "id": "946fd1dd",
   "metadata": {},
   "outputs": [],
   "source": [
    "lst1.append(\"python\")"
   ]
  },
  {
   "cell_type": "code",
   "execution_count": 31,
   "id": "6cab41f8",
   "metadata": {},
   "outputs": [],
   "source": [
    "lst1.append(\"newyear\")"
   ]
  },
  {
   "cell_type": "code",
   "execution_count": 35,
   "id": "4de2cffe",
   "metadata": {},
   "outputs": [],
   "source": [
    "lst1.append(\"2023\")"
   ]
  },
  {
   "cell_type": "code",
   "execution_count": 36,
   "id": "f4fd36b0",
   "metadata": {},
   "outputs": [
    {
     "name": "stdout",
     "output_type": "stream",
     "text": [
      "['hex', 'mega', 'python', 'newyear', '2023']\n"
     ]
    }
   ],
   "source": [
    "print(lst1)"
   ]
  },
  {
   "cell_type": "code",
   "execution_count": 37,
   "id": "12082806",
   "metadata": {},
   "outputs": [],
   "source": [
    "lst1.insert(1,\"code\")"
   ]
  },
  {
   "cell_type": "code",
   "execution_count": 38,
   "id": "a0879a13",
   "metadata": {},
   "outputs": [
    {
     "name": "stdout",
     "output_type": "stream",
     "text": [
      "['hex', 'code', 'mega', 'python', 'newyear', '2023']\n"
     ]
    }
   ],
   "source": [
    "print(lst1)"
   ]
  },
  {
   "cell_type": "code",
   "execution_count": 39,
   "id": "6c2d6119",
   "metadata": {},
   "outputs": [],
   "source": [
    "lst1[1]=\"academy\""
   ]
  },
  {
   "cell_type": "code",
   "execution_count": 40,
   "id": "a44d9245",
   "metadata": {},
   "outputs": [
    {
     "data": {
      "text/plain": [
       "['hex', 'academy', 'mega', 'python', 'newyear', '2023']"
      ]
     },
     "execution_count": 40,
     "metadata": {},
     "output_type": "execute_result"
    }
   ],
   "source": [
    "lst1"
   ]
  },
  {
   "cell_type": "code",
   "execution_count": 42,
   "id": "7975fde9",
   "metadata": {},
   "outputs": [
    {
     "data": {
      "text/plain": [
       "['mega', 'python', 'newyear']"
      ]
     },
     "execution_count": 42,
     "metadata": {},
     "output_type": "execute_result"
    }
   ],
   "source": [
    "lst1[2:5]"
   ]
  },
  {
   "cell_type": "code",
   "execution_count": 46,
   "id": "b96cf98a",
   "metadata": {},
   "outputs": [],
   "source": [
    "lst1[2:5]=[\"Nepal\",\"learn\",\"python\"]"
   ]
  },
  {
   "cell_type": "code",
   "execution_count": 47,
   "id": "fca09380",
   "metadata": {},
   "outputs": [
    {
     "data": {
      "text/plain": [
       "['hex', 'academy', 'Nepal', 'learn', 'python', '2023']"
      ]
     },
     "execution_count": 47,
     "metadata": {},
     "output_type": "execute_result"
    }
   ],
   "source": [
    "lst1"
   ]
  },
  {
   "cell_type": "code",
   "execution_count": 48,
   "id": "c4643660",
   "metadata": {},
   "outputs": [],
   "source": [
    "lst1.remove(\"Nepal\")"
   ]
  },
  {
   "cell_type": "code",
   "execution_count": 49,
   "id": "aa14488e",
   "metadata": {},
   "outputs": [
    {
     "data": {
      "text/plain": [
       "['hex', 'academy', 'learn', 'python', '2023']"
      ]
     },
     "execution_count": 49,
     "metadata": {},
     "output_type": "execute_result"
    }
   ],
   "source": [
    "lst1"
   ]
  },
  {
   "cell_type": "code",
   "execution_count": 61,
   "id": "82a63252",
   "metadata": {},
   "outputs": [],
   "source": [
    "lst1.clear()"
   ]
  },
  {
   "cell_type": "code",
   "execution_count": 62,
   "id": "73285d48",
   "metadata": {},
   "outputs": [
    {
     "data": {
      "text/plain": [
       "[]"
      ]
     },
     "execution_count": 62,
     "metadata": {},
     "output_type": "execute_result"
    }
   ],
   "source": [
    "lst1"
   ]
  },
  {
   "cell_type": "code",
   "execution_count": 63,
   "id": "affde953",
   "metadata": {},
   "outputs": [
    {
     "data": {
      "text/plain": [
       "'python'"
      ]
     },
     "execution_count": 63,
     "metadata": {},
     "output_type": "execute_result"
    }
   ],
   "source": [
    "lst.pop()"
   ]
  },
  {
   "cell_type": "code",
   "execution_count": 64,
   "id": "993721b7",
   "metadata": {},
   "outputs": [
    {
     "data": {
      "text/plain": [
       "[1, 3, 'Nepal', 'learn']"
      ]
     },
     "execution_count": 64,
     "metadata": {},
     "output_type": "execute_result"
    }
   ],
   "source": [
    "lst"
   ]
  },
  {
   "cell_type": "code",
   "execution_count": 65,
   "id": "0478dde5",
   "metadata": {},
   "outputs": [
    {
     "data": {
      "text/plain": [
       "True"
      ]
     },
     "execution_count": 65,
     "metadata": {},
     "output_type": "execute_result"
    }
   ],
   "source": [
    "1 in lst"
   ]
  },
  {
   "cell_type": "code",
   "execution_count": 66,
   "id": "0bf50bbe",
   "metadata": {},
   "outputs": [
    {
     "data": {
      "text/plain": [
       "False"
      ]
     },
     "execution_count": 66,
     "metadata": {},
     "output_type": "execute_result"
    }
   ],
   "source": [
    "3 not in lst"
   ]
  },
  {
   "cell_type": "code",
   "execution_count": 67,
   "id": "3fb35a57",
   "metadata": {},
   "outputs": [
    {
     "data": {
      "text/plain": [
       "True"
      ]
     },
     "execution_count": 67,
     "metadata": {},
     "output_type": "execute_result"
    }
   ],
   "source": [
    "\"learn\" in lst"
   ]
  },
  {
   "cell_type": "code",
   "execution_count": 68,
   "id": "d0a2d899",
   "metadata": {},
   "outputs": [
    {
     "data": {
      "text/plain": [
       "False"
      ]
     },
     "execution_count": 68,
     "metadata": {},
     "output_type": "execute_result"
    }
   ],
   "source": [
    "\"five\" in lst"
   ]
  },
  {
   "cell_type": "markdown",
   "id": "00b9be0a",
   "metadata": {},
   "source": [
    "# Dictionary"
   ]
  },
  {
   "cell_type": "code",
   "execution_count": 71,
   "id": "b0f8349a",
   "metadata": {},
   "outputs": [],
   "source": [
    "info={\"name\":\"Upasana Baral\",\n",
    "      \"roll no\":33,\n",
    "      \"College\":\"Medhavi\",\n",
    "      \"semester\":2,\n",
    "      \"programme\":\"BCIS\"}"
   ]
  },
  {
   "cell_type": "code",
   "execution_count": 73,
   "id": "3e351b53",
   "metadata": {},
   "outputs": [
    {
     "data": {
      "text/plain": [
       "dict_keys(['name', 'roll no', 'College', 'semester', 'programme'])"
      ]
     },
     "execution_count": 73,
     "metadata": {},
     "output_type": "execute_result"
    }
   ],
   "source": [
    "info.keys()"
   ]
  },
  {
   "cell_type": "code",
   "execution_count": 74,
   "id": "6c888d44",
   "metadata": {},
   "outputs": [
    {
     "data": {
      "text/plain": [
       "2"
      ]
     },
     "execution_count": 74,
     "metadata": {},
     "output_type": "execute_result"
    }
   ],
   "source": [
    "info[\"semester\"]"
   ]
  },
  {
   "cell_type": "code",
   "execution_count": 75,
   "id": "7b39d4cf",
   "metadata": {},
   "outputs": [
    {
     "data": {
      "text/plain": [
       "'Medhavi'"
      ]
     },
     "execution_count": 75,
     "metadata": {},
     "output_type": "execute_result"
    }
   ],
   "source": [
    "info[\"College\"]"
   ]
  },
  {
   "cell_type": "code",
   "execution_count": 76,
   "id": "9b96cb37",
   "metadata": {},
   "outputs": [],
   "source": [
    "info[\"College\"]=\"Baneshwor\""
   ]
  },
  {
   "cell_type": "code",
   "execution_count": 78,
   "id": "259753fd",
   "metadata": {},
   "outputs": [
    {
     "data": {
      "text/plain": [
       "'Baneshwor'"
      ]
     },
     "execution_count": 78,
     "metadata": {},
     "output_type": "execute_result"
    }
   ],
   "source": [
    "info[\"College\"]"
   ]
  },
  {
   "cell_type": "code",
   "execution_count": 79,
   "id": "de79f7e5",
   "metadata": {},
   "outputs": [
    {
     "data": {
      "text/plain": [
       "dict_values(['Upasana Baral', 33, 'Baneshwor', 2, 'BCIS'])"
      ]
     },
     "execution_count": 79,
     "metadata": {},
     "output_type": "execute_result"
    }
   ],
   "source": [
    "info.values()"
   ]
  },
  {
   "cell_type": "code",
   "execution_count": 80,
   "id": "3a515c98",
   "metadata": {},
   "outputs": [],
   "source": [
    "info[\"remarks\"]=\"Topper\""
   ]
  },
  {
   "cell_type": "code",
   "execution_count": 81,
   "id": "3eb1eabd",
   "metadata": {},
   "outputs": [
    {
     "data": {
      "text/plain": [
       "{'name': 'Upasana Baral',\n",
       " 'roll no': 33,\n",
       " 'College': 'Baneshwor',\n",
       " 'semester': 2,\n",
       " 'programme': 'BCIS',\n",
       " 'remarks': 'Topper'}"
      ]
     },
     "execution_count": 81,
     "metadata": {},
     "output_type": "execute_result"
    }
   ],
   "source": [
    "info"
   ]
  },
  {
   "cell_type": "code",
   "execution_count": 82,
   "id": "6ae5c6ba",
   "metadata": {},
   "outputs": [
    {
     "data": {
      "text/plain": [
       "'Topper'"
      ]
     },
     "execution_count": 82,
     "metadata": {},
     "output_type": "execute_result"
    }
   ],
   "source": [
    "info.pop(\"remarks\")"
   ]
  },
  {
   "cell_type": "code",
   "execution_count": 83,
   "id": "00469f45",
   "metadata": {},
   "outputs": [
    {
     "data": {
      "text/plain": [
       "{'name': 'Upasana Baral',\n",
       " 'roll no': 33,\n",
       " 'College': 'Baneshwor',\n",
       " 'semester': 2,\n",
       " 'programme': 'BCIS'}"
      ]
     },
     "execution_count": 83,
     "metadata": {},
     "output_type": "execute_result"
    }
   ],
   "source": [
    "info"
   ]
  },
  {
   "cell_type": "code",
   "execution_count": 89,
   "id": "af246b35",
   "metadata": {},
   "outputs": [],
   "source": [
    "info.update ({\"reg. no.\":\"2222-4444-6666\"})"
   ]
  },
  {
   "cell_type": "code",
   "execution_count": 90,
   "id": "9a1b8966",
   "metadata": {},
   "outputs": [
    {
     "data": {
      "text/plain": [
       "{'name': 'Upasana Baral',\n",
       " 'roll no': 33,\n",
       " 'College': 'Baneshwor',\n",
       " 'semester': 2,\n",
       " 'programme': 'BCIS',\n",
       " 'reg. no.': '2222-4444-6666'}"
      ]
     },
     "execution_count": 90,
     "metadata": {},
     "output_type": "execute_result"
    }
   ],
   "source": [
    "info"
   ]
  },
  {
   "cell_type": "code",
   "execution_count": 91,
   "id": "9ad5d3ce",
   "metadata": {},
   "outputs": [
    {
     "data": {
      "text/plain": [
       "'2222-4444-6666'"
      ]
     },
     "execution_count": 91,
     "metadata": {},
     "output_type": "execute_result"
    }
   ],
   "source": [
    "info.get(\"reg. no.\")"
   ]
  },
  {
   "cell_type": "markdown",
   "id": "546905d1",
   "metadata": {},
   "source": [
    "# Tuples"
   ]
  },
  {
   "cell_type": "code",
   "execution_count": 96,
   "id": "c97645f1",
   "metadata": {},
   "outputs": [],
   "source": [
    "x=(1,1,1,1,2,3,\"hi\")"
   ]
  },
  {
   "cell_type": "code",
   "execution_count": 97,
   "id": "4b028024",
   "metadata": {},
   "outputs": [
    {
     "data": {
      "text/plain": [
       "4"
      ]
     },
     "execution_count": 97,
     "metadata": {},
     "output_type": "execute_result"
    }
   ],
   "source": [
    "x.count(1)"
   ]
  },
  {
   "cell_type": "code",
   "execution_count": 98,
   "id": "050140cf",
   "metadata": {},
   "outputs": [
    {
     "data": {
      "text/plain": [
       "1"
      ]
     },
     "execution_count": 98,
     "metadata": {},
     "output_type": "execute_result"
    }
   ],
   "source": [
    "x[0]"
   ]
  },
  {
   "cell_type": "code",
   "execution_count": null,
   "id": "d7ffc290",
   "metadata": {},
   "outputs": [],
   "source": []
  }
 ],
 "metadata": {
  "kernelspec": {
   "display_name": "Python 3 (ipykernel)",
   "language": "python",
   "name": "python3"
  },
  "language_info": {
   "codemirror_mode": {
    "name": "ipython",
    "version": 3
   },
   "file_extension": ".py",
   "mimetype": "text/x-python",
   "name": "python",
   "nbconvert_exporter": "python",
   "pygments_lexer": "ipython3",
   "version": "3.11.1"
  }
 },
 "nbformat": 4,
 "nbformat_minor": 5
}
