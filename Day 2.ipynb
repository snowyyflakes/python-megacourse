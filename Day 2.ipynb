{
 "cells": [
  {
   "cell_type": "code",
   "execution_count": 1,
   "id": "af35887b",
   "metadata": {},
   "outputs": [],
   "source": [
    "x=\"hex\""
   ]
  },
  {
   "cell_type": "code",
   "execution_count": 2,
   "id": "dbb51b27",
   "metadata": {},
   "outputs": [],
   "source": [
    "y=\"nepal\""
   ]
  },
  {
   "cell_type": "code",
   "execution_count": 7,
   "id": "0d930008",
   "metadata": {},
   "outputs": [],
   "source": [
    "sum=x+''+y"
   ]
  },
  {
   "cell_type": "code",
   "execution_count": 8,
   "id": "bb144a4b",
   "metadata": {},
   "outputs": [
    {
     "name": "stdout",
     "output_type": "stream",
     "text": [
      "hexnepal\n"
     ]
    }
   ],
   "source": [
    "print(sum)"
   ]
  },
  {
   "cell_type": "code",
   "execution_count": 9,
   "id": "fec9b6bc",
   "metadata": {},
   "outputs": [
    {
     "name": "stdout",
     "output_type": "stream",
     "text": [
      "enter your first name;Upasana\n",
      "enter your last name;Baral\n"
     ]
    }
   ],
   "source": [
    "f_name= input(\"enter your first name;\")\n",
    "l_name= input(\"enter your last name;\")"
   ]
  },
  {
   "cell_type": "code",
   "execution_count": 11,
   "id": "cdc5cb83",
   "metadata": {},
   "outputs": [
    {
     "name": "stdout",
     "output_type": "stream",
     "text": [
      "your name is Upasana Baral\n"
     ]
    }
   ],
   "source": [
    "print(\"your name is \"+f_name+' '+l_name)"
   ]
  },
  {
   "cell_type": "code",
   "execution_count": 1,
   "id": "cc667b20",
   "metadata": {},
   "outputs": [
    {
     "name": "stdout",
     "output_type": "stream",
     "text": [
      "enter your first nunmber: 33\n",
      "enter your second number: 22\n"
     ]
    }
   ],
   "source": [
    "num1=int(input(\"enter your first nunmber: \"))\n",
    "num2=int(input(\"enter your second number: \"))"
   ]
  },
  {
   "cell_type": "code",
   "execution_count": 2,
   "id": "135ce45e",
   "metadata": {},
   "outputs": [],
   "source": [
    "sum=num1+num2"
   ]
  },
  {
   "cell_type": "code",
   "execution_count": 3,
   "id": "2fb275db",
   "metadata": {},
   "outputs": [
    {
     "data": {
      "text/plain": [
       "55"
      ]
     },
     "execution_count": 3,
     "metadata": {},
     "output_type": "execute_result"
    }
   ],
   "source": [
    "sum"
   ]
  },
  {
   "cell_type": "code",
   "execution_count": 4,
   "id": "1f5cd84c",
   "metadata": {},
   "outputs": [
    {
     "name": "stdout",
     "output_type": "stream",
     "text": [
      "enter your first number: 7.8\n",
      "enter your second number: 3.5\n"
     ]
    }
   ],
   "source": [
    "num3=float(input(\"enter your first number: \"))\n",
    "num4=float(input(\"enter your second number: \"))"
   ]
  },
  {
   "cell_type": "code",
   "execution_count": 5,
   "id": "db11971f",
   "metadata": {},
   "outputs": [],
   "source": [
    "diff=num3-num4"
   ]
  },
  {
   "cell_type": "code",
   "execution_count": 6,
   "id": "51260c70",
   "metadata": {},
   "outputs": [
    {
     "data": {
      "text/plain": [
       "4.3"
      ]
     },
     "execution_count": 6,
     "metadata": {},
     "output_type": "execute_result"
    }
   ],
   "source": [
    "diff"
   ]
  },
  {
   "cell_type": "code",
   "execution_count": 9,
   "id": "722aef50",
   "metadata": {},
   "outputs": [
    {
     "name": "stdout",
     "output_type": "stream",
     "text": [
      "enter your first number: 7\n",
      "enter your second number: 7\n"
     ]
    }
   ],
   "source": [
    "num5=int(input(\"enter your first number: \"))\n",
    "num6=int(input(\"enter your second number: \"))"
   ]
  },
  {
   "cell_type": "code",
   "execution_count": 11,
   "id": "0528e94a",
   "metadata": {},
   "outputs": [],
   "source": [
    "mul1=num5*num6"
   ]
  },
  {
   "cell_type": "code",
   "execution_count": 12,
   "id": "51a5fcdf",
   "metadata": {},
   "outputs": [
    {
     "data": {
      "text/plain": [
       "49"
      ]
     },
     "execution_count": 12,
     "metadata": {},
     "output_type": "execute_result"
    }
   ],
   "source": [
    "mul1"
   ]
  },
  {
   "cell_type": "code",
   "execution_count": 13,
   "id": "e3c0fcff",
   "metadata": {},
   "outputs": [
    {
     "name": "stdout",
     "output_type": "stream",
     "text": [
      "49\n"
     ]
    }
   ],
   "source": [
    "print(mul1)"
   ]
  },
  {
   "cell_type": "code",
   "execution_count": 15,
   "id": "b9ced387",
   "metadata": {},
   "outputs": [
    {
     "data": {
      "text/plain": [
       "823543"
      ]
     },
     "execution_count": 15,
     "metadata": {},
     "output_type": "execute_result"
    }
   ],
   "source": [
    "num5**num6"
   ]
  },
  {
   "cell_type": "code",
   "execution_count": 16,
   "id": "b3ac0730",
   "metadata": {},
   "outputs": [
    {
     "data": {
      "text/plain": [
       "10.666666666666666"
      ]
     },
     "execution_count": 16,
     "metadata": {},
     "output_type": "execute_result"
    }
   ],
   "source": [
    "32/3"
   ]
  },
  {
   "cell_type": "code",
   "execution_count": 17,
   "id": "831f48a1",
   "metadata": {},
   "outputs": [
    {
     "data": {
      "text/plain": [
       "10"
      ]
     },
     "execution_count": 17,
     "metadata": {},
     "output_type": "execute_result"
    }
   ],
   "source": [
    "32//3"
   ]
  },
  {
   "cell_type": "code",
   "execution_count": 18,
   "id": "d8a2aa6b",
   "metadata": {},
   "outputs": [
    {
     "data": {
      "text/plain": [
       "2"
      ]
     },
     "execution_count": 18,
     "metadata": {},
     "output_type": "execute_result"
    }
   ],
   "source": [
    "32%3"
   ]
  },
  {
   "cell_type": "code",
   "execution_count": null,
   "id": "cc1b83c0",
   "metadata": {},
   "outputs": [],
   "source": []
  }
 ],
 "metadata": {
  "kernelspec": {
   "display_name": "Python 3 (ipykernel)",
   "language": "python",
   "name": "python3"
  },
  "language_info": {
   "codemirror_mode": {
    "name": "ipython",
    "version": 3
   },
   "file_extension": ".py",
   "mimetype": "text/x-python",
   "name": "python",
   "nbconvert_exporter": "python",
   "pygments_lexer": "ipython3",
   "version": "3.11.1"
  }
 },
 "nbformat": 4,
 "nbformat_minor": 5
}
